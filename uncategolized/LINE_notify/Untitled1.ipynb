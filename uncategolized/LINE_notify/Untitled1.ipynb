{
 "cells": [
  {
   "cell_type": "code",
   "execution_count": 4,
   "id": "509758d9-a0a0-4301-9463-23787ee3f5f5",
   "metadata": {},
   "outputs": [
    {
     "data": {
      "text/html": [
       "<div>\n",
       "<style scoped>\n",
       "    .dataframe tbody tr th:only-of-type {\n",
       "        vertical-align: middle;\n",
       "    }\n",
       "\n",
       "    .dataframe tbody tr th {\n",
       "        vertical-align: top;\n",
       "    }\n",
       "\n",
       "    .dataframe thead th {\n",
       "        text-align: right;\n",
       "    }\n",
       "</style>\n",
       "<table border=\"1\" class=\"dataframe\">\n",
       "  <thead>\n",
       "    <tr style=\"text-align: right;\">\n",
       "      <th></th>\n",
       "      <th>Open</th>\n",
       "      <th>High</th>\n",
       "      <th>Low</th>\n",
       "      <th>Close</th>\n",
       "      <th>Adj Close</th>\n",
       "      <th>Volume</th>\n",
       "    </tr>\n",
       "    <tr>\n",
       "      <th>Date</th>\n",
       "      <th></th>\n",
       "      <th></th>\n",
       "      <th></th>\n",
       "      <th></th>\n",
       "      <th></th>\n",
       "      <th></th>\n",
       "    </tr>\n",
       "  </thead>\n",
       "  <tbody>\n",
       "  </tbody>\n",
       "</table>\n",
       "</div>"
      ],
      "text/plain": [
       "Empty DataFrame\n",
       "Columns: [Open, High, Low, Close, Adj Close, Volume]\n",
       "Index: []"
      ]
     },
     "execution_count": 4,
     "metadata": {},
     "output_type": "execute_result"
    }
   ],
   "source": [
    "import pandas as pd\n",
    "import yfinance as yf\n",
    "\n",
    "# tickers_list = [\"aapl\", \"goog\", \"amzn\", \"BAC\", \"BA\"] # example list\n",
    "# tickers_data= {} # empty dictionary\n",
    "\n",
    "\n",
    "\n",
    "# for ticker in tickers_list:\n",
    "#     ticker_object = yf.Ticker(ticker)\n",
    "\n",
    "#     #convert info() output from dictionary to dataframe\n",
    "#     temp = pd.DataFrame.from_dict(ticker_object.info, orient=\"index\")\n",
    "#     temp.reset_index(inplace=True)\n",
    "#     temp.columns = [\"Attribute\", \"Recent\"]\n",
    "    \n",
    "#     # add (ticker, dataframe) to main dictionary\n",
    "#     tickers_data[ticker] = temp\n",
    "\n",
    "# tickers_data\n",
    "\n",
    "\n",
    "aapl = yf.Ticker(\"AAPL\")\n",
    "aapl.financials\n",
    "aapl.balance_sheet"
   ]
  }
 ],
 "metadata": {
  "kernelspec": {
   "display_name": "Python 3",
   "language": "python",
   "name": "python3"
  },
  "language_info": {
   "codemirror_mode": {
    "name": "ipython",
    "version": 3
   },
   "file_extension": ".py",
   "mimetype": "text/x-python",
   "name": "python",
   "nbconvert_exporter": "python",
   "pygments_lexer": "ipython3",
   "version": "3.7.10"
  }
 },
 "nbformat": 4,
 "nbformat_minor": 5
}
