{
 "cells": [
  {
   "cell_type": "code",
   "execution_count": null,
   "id": "bffd9460-3152-4488-83a7-d336d47e6576",
   "metadata": {},
   "outputs": [
    {
     "name": "stdout",
     "output_type": "stream",
     "text": [
      "0 2021-05-10 03:15:13.598715\n",
      "1 2021-05-10 04:15:13.865289\n",
      "2 2021-05-10 05:15:14.128012\n",
      "3 2021-05-10 06:15:14.313589\n",
      "4 2021-05-10 07:15:14.325423\n",
      "5 2021-05-10 08:15:14.401735\n",
      "6 2021-05-10 09:15:14.489540\n"
     ]
    }
   ],
   "source": [
    "import time\n",
    "import datetime\n",
    "import webbrowser\n",
    "\n",
    "# 1時間毎に任意のノートブックを開く\n",
    "for i in range(12):\n",
    "    browse = webbrowser.get('chrome')\n",
    "    browse.open('https://colab.research.google.com/drive/1AJIgcZOHgjPuzcSxaFK2tl5WFLaX1Rta?hl=ja#scrollTo=b20f19fa-72a5-4a26-ab5b-b68bee5cb43d')\n",
    "    print(i, datetime.datetime.today())\n",
    "    time.sleep(60*60)"
   ]
  }
 ],
 "metadata": {
  "kernelspec": {
   "display_name": "Python 3",
   "language": "python",
   "name": "python3"
  },
  "language_info": {
   "codemirror_mode": {
    "name": "ipython",
    "version": 3
   },
   "file_extension": ".py",
   "mimetype": "text/x-python",
   "name": "python",
   "nbconvert_exporter": "python",
   "pygments_lexer": "ipython3",
   "version": "3.7.10"
  }
 },
 "nbformat": 4,
 "nbformat_minor": 5
}
