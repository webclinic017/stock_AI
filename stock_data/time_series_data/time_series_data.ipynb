{
 "cells": [
  {
   "cell_type": "code",
   "execution_count": 7,
   "id": "modified-vietnam",
   "metadata": {},
   "outputs": [
    {
     "name": "stdout",
     "output_type": "stream",
     "text": [
      "            日付  symbol                            Unnamed: 2  \\\n",
      "0     20210129    1301                                    極洋   \n",
      "1     20210129    1305                         ダイワ上場投信－トピックス   \n",
      "2     20210129    1306               ＮＥＸＴ　ＦＵＮＤＳ　ＴＯＰＩＸ連動型上場投信   \n",
      "3     20210129    1308                     上場インデックスファンドＴＯＰＩＸ   \n",
      "4     20210129    1309  ＮＥＸＴ　ＦＵＮＤＳ　ＣｈｉｎａＡＭＣ・中国株式・上証５０連動型上場投信   \n",
      "...        ...     ...                                   ...   \n",
      "4081  20210129    9993                                  ヤマザワ   \n",
      "4082  20210129    9994                                   やまや   \n",
      "4083  20210129    9995                                 グローセル   \n",
      "4084  20210129    9996                                 サトー商会   \n",
      "4085  20210129    9997                                  ベルーナ   \n",
      "\n",
      "                    type 33業種コード  33業種区分 17業種コード  17業種区分 規模コード           規模区分  \n",
      "0             市場第一部（内国株）      50  水産・農林業       1     食品      7  TOPIX Small 2  \n",
      "1                ETF・ETN       -       -       -       -     -              -  \n",
      "2                ETF・ETN       -       -       -       -     -              -  \n",
      "3                ETF・ETN       -       -       -       -     -              -  \n",
      "4                ETF・ETN       -       -       -       -     -              -  \n",
      "...                  ...     ...     ...     ...     ...   ...            ...  \n",
      "4081          市場第一部（内国株）    6100     小売業      14     小売      7  TOPIX Small 2  \n",
      "4082          市場第一部（内国株）    6100     小売業      14     小売      7  TOPIX Small 2  \n",
      "4083          市場第一部（内国株）    6050     卸売業      13  商社・卸売      7  TOPIX Small 2  \n",
      "4084  JASDAQ(スタンダード・内国株）    6050     卸売業      13  商社・卸売      -              -  \n",
      "4085          市場第一部（内国株）    6100     小売業      14     小売      6  TOPIX Small 1  \n",
      "\n",
      "[4086 rows x 10 columns]\n",
      "2\n",
      "1301\n",
      "1301.T\n"
     ]
    },
    {
     "ename": "AttributeError",
     "evalue": "'int' object has no attribute 'replace'",
     "output_type": "error",
     "traceback": [
      "\u001b[0;31m---------------------------------------------------------------------------\u001b[0m",
      "\u001b[0;31mAttributeError\u001b[0m                            Traceback (most recent call last)",
      "\u001b[0;32m<ipython-input-7-aadda1b6facc>\u001b[0m in \u001b[0;36m<module>\u001b[0;34m\u001b[0m\n\u001b[1;32m     15\u001b[0m     \u001b[0mstart\u001b[0m \u001b[0;34m=\u001b[0m \u001b[0;34m'2020-01-01'\u001b[0m\u001b[0;34m\u001b[0m\u001b[0;34m\u001b[0m\u001b[0m\n\u001b[1;32m     16\u001b[0m     \u001b[0mend\u001b[0m \u001b[0;34m=\u001b[0m \u001b[0;34m'2021-04-01'\u001b[0m\u001b[0;34m\u001b[0m\u001b[0;34m\u001b[0m\u001b[0m\n\u001b[0;32m---> 17\u001b[0;31m     \u001b[0mdata\u001b[0m \u001b[0;34m=\u001b[0m \u001b[0myf\u001b[0m\u001b[0;34m.\u001b[0m\u001b[0mdownload\u001b[0m\u001b[0;34m(\u001b[0m\u001b[0mi\u001b[0m\u001b[0;34m,\u001b[0m \u001b[0mstart\u001b[0m\u001b[0;34m,\u001b[0m \u001b[0mend\u001b[0m\u001b[0;34m,\u001b[0m \u001b[0minterval\u001b[0m\u001b[0;34m=\u001b[0m\u001b[0;34m'60m'\u001b[0m\u001b[0;34m)\u001b[0m\u001b[0;34m\u001b[0m\u001b[0;34m\u001b[0m\u001b[0m\n\u001b[0m\u001b[1;32m     18\u001b[0m \u001b[0;31m#     data = yf.download(i, interval='1d')\u001b[0m\u001b[0;34m\u001b[0m\u001b[0;34m\u001b[0m\u001b[0;34m\u001b[0m\u001b[0m\n\u001b[1;32m     19\u001b[0m     \u001b[0mprint\u001b[0m\u001b[0;34m(\u001b[0m\u001b[0mdata\u001b[0m\u001b[0;34m)\u001b[0m\u001b[0;34m\u001b[0m\u001b[0;34m\u001b[0m\u001b[0m\n",
      "\u001b[0;32m/opt/anaconda3/envs/stock/lib/python3.7/site-packages/yfinance/multi.py\u001b[0m in \u001b[0;36mdownload\u001b[0;34m(tickers, start, end, actions, threads, group_by, auto_adjust, back_adjust, progress, period, interval, prepost, proxy, rounding, **kwargs)\u001b[0m\n\u001b[1;32m     69\u001b[0m     \u001b[0;31m# create ticker list\u001b[0m\u001b[0;34m\u001b[0m\u001b[0;34m\u001b[0m\u001b[0;34m\u001b[0m\u001b[0m\n\u001b[1;32m     70\u001b[0m     tickers = tickers if isinstance(\n\u001b[0;32m---> 71\u001b[0;31m         tickers, (list, set, tuple)) else tickers.replace(',', ' ').split()\n\u001b[0m\u001b[1;32m     72\u001b[0m \u001b[0;34m\u001b[0m\u001b[0m\n\u001b[1;32m     73\u001b[0m     \u001b[0mtickers\u001b[0m \u001b[0;34m=\u001b[0m \u001b[0mlist\u001b[0m\u001b[0;34m(\u001b[0m\u001b[0mset\u001b[0m\u001b[0;34m(\u001b[0m\u001b[0;34m[\u001b[0m\u001b[0mticker\u001b[0m\u001b[0;34m.\u001b[0m\u001b[0mupper\u001b[0m\u001b[0;34m(\u001b[0m\u001b[0;34m)\u001b[0m \u001b[0;32mfor\u001b[0m \u001b[0mticker\u001b[0m \u001b[0;32min\u001b[0m \u001b[0mtickers\u001b[0m\u001b[0;34m]\u001b[0m\u001b[0;34m)\u001b[0m\u001b[0;34m)\u001b[0m\u001b[0;34m\u001b[0m\u001b[0;34m\u001b[0m\u001b[0m\n",
      "\u001b[0;31mAttributeError\u001b[0m: 'int' object has no attribute 'replace'"
     ]
    }
   ],
   "source": [
    "import pandas as pd\n",
    "import yfinance as yf\n",
    "\n",
    "\n",
    "stock = 'japan_all'\n",
    "df = pd.read_csv('../stock_code/{}.csv'.format(stock))\n",
    "print(df)\n",
    "c =1\n",
    "for i in df['symbol']:\n",
    "    c = c+1\n",
    "    print(c)\n",
    "    print(i)\n",
    "    symbol = str(i) + '.T'\n",
    "    print(symbol)\n",
    "    start = '2020-01-01'\n",
    "    end = '2021-04-01'\n",
    "    data = yf.download(i, start, end, interval='60m') \n",
    "#     data = yf.download(i, interval='1d')\n",
    "    print(data)\n",
    "    data.to_csv('{}/{}.csv'.format(stock,i))\n",
    "    "
   ]
  }
 ],
 "metadata": {
  "kernelspec": {
   "display_name": "Python 3",
   "language": "python",
   "name": "python3"
  },
  "language_info": {
   "codemirror_mode": {
    "name": "ipython",
    "version": 3
   },
   "file_extension": ".py",
   "mimetype": "text/x-python",
   "name": "python",
   "nbconvert_exporter": "python",
   "pygments_lexer": "ipython3",
   "version": "3.7.10"
  }
 },
 "nbformat": 4,
 "nbformat_minor": 5
}
